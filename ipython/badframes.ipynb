{
 "cells": [
  {
   "cell_type": "code",
   "execution_count": 1,
   "metadata": {},
   "outputs": [
    {
     "data": {
      "text/plain": [
       "41"
      ]
     },
     "execution_count": 1,
     "metadata": {},
     "output_type": "execute_result"
    }
   ],
   "source": [
    "import pandas as pd\n",
    "import matplotlib.pyplot as plt\n",
    "import os\n",
    "import sys\n",
    "module_path = os.path.abspath(os.path.join('..'))\n",
    "if module_path not in sys.path:\n",
    "    sys.path.append(module_path)\n",
    "    \n",
    "from lib.FolderStructure import FolderStructure    \n",
    "from lib.BadFramesData import BadFramesData\n",
    "\n",
    "#rootDir =\"C:/workspaces/AnjutkaVideo/Kara_Sea_Crab_Video_st_5993_2018/\"\n",
    "#videoFileName = \"V3__R_20180915_205551\"\n",
    "#videoFileName = \"V4__R_20180915_210447\"\n",
    "#videoFileName = \"V6__R_20180915_212238\"\n",
    "\n",
    "\n",
    "rootDir = \"C:/workspaces/AnjutkaVideo/KaraSeaCrabVideoBlagopoluchiyaBay2018/\"\n",
    "#videoFileName = \"V3_R_20180911_170159\"\n",
    "#videoFileName = \"V2_R_20180911_165730\"\n",
    "videoFileName = \"V1_R_20180911_165259\"\n",
    "\n",
    "folderStruct = FolderStructure(rootDir, videoFileName)\n",
    "\n",
    "badframes = BadFramesData.createFromFile(folderStruct) #.getRedDotsFilepath())\n",
    "badframes.getCount()\n"
   ]
  },
  {
   "cell_type": "code",
   "execution_count": 2,
   "metadata": {},
   "outputs": [
    {
     "data": {
      "text/html": [
       "<div>\n",
       "<style scoped>\n",
       "    .dataframe tbody tr th:only-of-type {\n",
       "        vertical-align: middle;\n",
       "    }\n",
       "\n",
       "    .dataframe tbody tr th {\n",
       "        vertical-align: top;\n",
       "    }\n",
       "\n",
       "    .dataframe thead th {\n",
       "        text-align: right;\n",
       "    }\n",
       "</style>\n",
       "<table border=\"1\" class=\"dataframe\">\n",
       "  <thead>\n",
       "    <tr style=\"text-align: right;\">\n",
       "      <th></th>\n",
       "      <th>startfFrameNumber</th>\n",
       "      <th>endFrameNumber</th>\n",
       "      <th>createdOn</th>\n",
       "    </tr>\n",
       "  </thead>\n",
       "  <tbody>\n",
       "    <tr>\n",
       "      <th>0</th>\n",
       "      <td>1913</td>\n",
       "      <td>1963</td>\n",
       "      <td>2019-09-15_17:21:21</td>\n",
       "    </tr>\n",
       "    <tr>\n",
       "      <th>1</th>\n",
       "      <td>1963</td>\n",
       "      <td>2013</td>\n",
       "      <td>2019-09-15_17:23:08</td>\n",
       "    </tr>\n",
       "    <tr>\n",
       "      <th>2</th>\n",
       "      <td>2013</td>\n",
       "      <td>2063</td>\n",
       "      <td>2019-09-15_17:23:11</td>\n",
       "    </tr>\n",
       "    <tr>\n",
       "      <th>3</th>\n",
       "      <td>2063</td>\n",
       "      <td>2113</td>\n",
       "      <td>2019-09-15_17:23:13</td>\n",
       "    </tr>\n",
       "    <tr>\n",
       "      <th>4</th>\n",
       "      <td>2113</td>\n",
       "      <td>2163</td>\n",
       "      <td>2019-09-15_17:23:16</td>\n",
       "    </tr>\n",
       "  </tbody>\n",
       "</table>\n",
       "</div>"
      ],
      "text/plain": [
       "   startfFrameNumber  endFrameNumber            createdOn\n",
       "0               1913            1963  2019-09-15_17:21:21\n",
       "1               1963            2013  2019-09-15_17:23:08\n",
       "2               2013            2063  2019-09-15_17:23:11\n",
       "3               2063            2113  2019-09-15_17:23:13\n",
       "4               2113            2163  2019-09-15_17:23:16"
      ]
     },
     "execution_count": 2,
     "metadata": {},
     "output_type": "execute_result"
    }
   ],
   "source": [
    "df = badframes.getPandasDF()\n",
    "df.head()"
   ]
  },
  {
   "cell_type": "code",
   "execution_count": 26,
   "metadata": {},
   "outputs": [
    {
     "data": {
      "text/plain": [
       "1912"
      ]
     },
     "execution_count": 26,
     "metadata": {},
     "output_type": "execute_result"
    }
   ],
   "source": [
    "#df.loc[df['startfFrameNumber'] >=1915].loc[df['endFrameNumber'] <=2063 ]\n",
    "df.loc[(df['startfFrameNumber'] <= 1914) & (df['endFrameNumber'] >= 1914)][\"startfFrameNumber\"][0]-1\n"
   ]
  },
  {
   "cell_type": "code",
   "execution_count": null,
   "metadata": {},
   "outputs": [],
   "source": []
  }
 ],
 "metadata": {
  "kernelspec": {
   "display_name": "Python 2",
   "language": "python",
   "name": "python2"
  },
  "language_info": {
   "codemirror_mode": {
    "name": "ipython",
    "version": 2
   },
   "file_extension": ".py",
   "mimetype": "text/x-python",
   "name": "python",
   "nbconvert_exporter": "python",
   "pygments_lexer": "ipython2",
   "version": "2.7.9"
  }
 },
 "nbformat": 4,
 "nbformat_minor": 2
}
