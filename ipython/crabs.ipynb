{
 "cells": [
  {
   "cell_type": "code",
   "execution_count": 1,
   "metadata": {
    "scrolled": true
   },
   "outputs": [
    {
     "data": {
      "text/plain": [
       "10621"
      ]
     },
     "execution_count": 1,
     "metadata": {},
     "output_type": "execute_result"
    }
   ],
   "source": [
    "import pandas as pd\n",
    "import matplotlib.pyplot as plt\n",
    "import os\n",
    "import sys\n",
    "module_path = os.path.abspath(os.path.join('..'))\n",
    "if module_path not in sys.path:\n",
    "    sys.path.append(module_path)\n",
    "    \n",
    "from lib.RedDotsData import RedDotsData\n",
    "from lib.FolderStructure import FolderStructure\n",
    "\n",
    "\n",
    "rootDir =\"C:/workspaces/AnjutkaVideo/Kara_Sea_Crab_Video_st_5993_2018/\"\n",
    "#videoFileName = \"V3__R_20180915_205551\"\n",
    "videoFileName = \"V4__R_20180915_210447\"\n",
    "#videoFileName = \"V6__R_20180915_212238\"\n",
    "\n",
    "\n",
    "#rootDir = \"C:/workspaces/AnjutkaVideo/KaraSeaCrabVideoBlagopoluchiyaBay2018/\"\n",
    "#videoFileName = \"V3_R_20180911_170159\"\n",
    "#videoFileName = \"V2_R_20180911_165730\"\n",
    "#videoFileName = \"V1_R_20180911_165259\"\n",
    "\n",
    "folderStruct = FolderStructure(rootDir, videoFileName)\n",
    "\n",
    "\n",
    "rdd = RedDotsData(folderStruct) #.getRedDotsFilepath())\n",
    "rdd.getCount()"
   ]
  },
  {
   "cell_type": "code",
   "execution_count": 2,
   "metadata": {},
   "outputs": [],
   "source": [
    "redDots = rdd.interpolated()\n",
    "#redDots.head(5)"
   ]
  },
  {
   "cell_type": "code",
   "execution_count": 3,
   "metadata": {},
   "outputs": [],
   "source": [
    "column_names = ['dir','filename','frameID','createdOn','crabNumber',\"crabWidthPixels\",\"crabLocationX\", 'crabLocationY',\n",
    "                'crabCoordinatePoint','cranbCoordinateBox']\n",
    "crabsDF = pd.read_csv(folderStruct.getCrabsFilepath(),delimiter=\"\\t\",na_values=\"(null)\",names = column_names) # 24 errors\n",
    "#crabsDF.head(10)"
   ]
  },
  {
   "cell_type": "code",
   "execution_count": 4,
   "metadata": {},
   "outputs": [
    {
     "data": {
      "text/html": [
       "<div>\n",
       "<style scoped>\n",
       "    .dataframe tbody tr th:only-of-type {\n",
       "        vertical-align: middle;\n",
       "    }\n",
       "\n",
       "    .dataframe tbody tr th {\n",
       "        vertical-align: top;\n",
       "    }\n",
       "\n",
       "    .dataframe thead th {\n",
       "        text-align: right;\n",
       "    }\n",
       "</style>\n",
       "<table border=\"1\" class=\"dataframe\">\n",
       "  <thead>\n",
       "    <tr style=\"text-align: right;\">\n",
       "      <th></th>\n",
       "      <th>dir</th>\n",
       "      <th>filename</th>\n",
       "      <th>frameID</th>\n",
       "      <th>crabWidthPixels</th>\n",
       "      <th>crabLocationX</th>\n",
       "      <th>crabLocationY</th>\n",
       "      <th>frameNumber</th>\n",
       "      <th>mm_per_pixel</th>\n",
       "      <th>crabWidthMM</th>\n",
       "    </tr>\n",
       "  </thead>\n",
       "  <tbody>\n",
       "    <tr>\n",
       "      <th>0</th>\n",
       "      <td>dir</td>\n",
       "      <td>filename</td>\n",
       "      <td>crabNumber</td>\n",
       "      <td>crabLocationY</td>\n",
       "      <td>crabWidthLine</td>\n",
       "      <td>NaN</td>\n",
       "      <td>NaN</td>\n",
       "      <td>NaN</td>\n",
       "      <td>NaN</td>\n",
       "    </tr>\n",
       "    <tr>\n",
       "      <th>1</th>\n",
       "      <td>C:/workspaces/AnjutkaVideo/Kara_Sea_Crab_Video...</td>\n",
       "      <td>frame002566.jpg</td>\n",
       "      <td>1</td>\n",
       "      <td>1418</td>\n",
       "      <td>[(1231,1360):(1140,1477)]</td>\n",
       "      <td>NaN</td>\n",
       "      <td>NaN</td>\n",
       "      <td>NaN</td>\n",
       "      <td>NaN</td>\n",
       "    </tr>\n",
       "    <tr>\n",
       "      <th>2</th>\n",
       "      <td>C:/workspaces/AnjutkaVideo/Kara_Sea_Crab_Video...</td>\n",
       "      <td>frame007611.jpg</td>\n",
       "      <td>2</td>\n",
       "      <td>1518</td>\n",
       "      <td>[(1248,1536):(1347,1524)]</td>\n",
       "      <td>NaN</td>\n",
       "      <td>NaN</td>\n",
       "      <td>NaN</td>\n",
       "      <td>NaN</td>\n",
       "    </tr>\n",
       "    <tr>\n",
       "      <th>3</th>\n",
       "      <td>C:/workspaces/AnjutkaVideo/Kara_Sea_Crab_Video...</td>\n",
       "      <td>frame007906.jpg</td>\n",
       "      <td>3</td>\n",
       "      <td>1480</td>\n",
       "      <td>[(201,1594):(155,1518)]</td>\n",
       "      <td>NaN</td>\n",
       "      <td>NaN</td>\n",
       "      <td>NaN</td>\n",
       "      <td>NaN</td>\n",
       "    </tr>\n",
       "  </tbody>\n",
       "</table>\n",
       "</div>"
      ],
      "text/plain": [
       "                                                 dir         filename  \\\n",
       "0                                                dir         filename   \n",
       "1  C:/workspaces/AnjutkaVideo/Kara_Sea_Crab_Video...  frame002566.jpg   \n",
       "2  C:/workspaces/AnjutkaVideo/Kara_Sea_Crab_Video...  frame007611.jpg   \n",
       "3  C:/workspaces/AnjutkaVideo/Kara_Sea_Crab_Video...  frame007906.jpg   \n",
       "\n",
       "      frameID crabWidthPixels              crabLocationX  crabLocationY  \\\n",
       "0  crabNumber   crabLocationY              crabWidthLine            NaN   \n",
       "1           1            1418  [(1231,1360):(1140,1477)]            NaN   \n",
       "2           2            1518  [(1248,1536):(1347,1524)]            NaN   \n",
       "3           3            1480    [(201,1594):(155,1518)]            NaN   \n",
       "\n",
       "   frameNumber  mm_per_pixel crabWidthMM  \n",
       "0          NaN           NaN         NaN  \n",
       "1          NaN           NaN         NaN  \n",
       "2          NaN           NaN         NaN  \n",
       "3          NaN           NaN         NaN  "
      ]
     },
     "execution_count": 4,
     "metadata": {},
     "output_type": "execute_result"
    }
   ],
   "source": [
    "res=pd.merge(crabsDF[['dir','filename','frameID',\"crabWidthPixels\",\"crabLocationX\", 'crabLocationY']], \n",
    "             redDots[['frameNumber','mm_per_pixel']],left_on=['frameID'], right_on= ['frameNumber'],how='left')\n",
    "res[\"crabWidthMM\"]=res[\"crabWidthPixels\"] * res[\"mm_per_pixel\"] \n",
    "res.head(10)"
   ]
  },
  {
   "cell_type": "code",
   "execution_count": 5,
   "metadata": {},
   "outputs": [
    {
     "data": {
      "image/png": "[encoded data removed]",
      "text/plain": [
       "<Figure size 1080x504 with 1 Axes>"
      ]
     },
     "metadata": {},
     "output_type": "display_data"
    }
   ],
   "source": [
    "res.plot.scatter(x='frameNumber', y=['crabWidthMM'],figsize=(15,7), title=\"crabZize\")\n",
    "plt.gca().grid(which='major', axis='both', linestyle='--') #specify grid lines"
   ]
  },
  {
   "cell_type": "code",
   "execution_count": null,
   "metadata": {},
   "outputs": [],
   "source": []
  }
 ],
 "metadata": {
  "kernelspec": {
   "display_name": "Python 2",
   "language": "python",
   "name": "python2"
  },
  "language_info": {
   "codemirror_mode": {
    "name": "ipython",
    "version": 2
   },
   "file_extension": ".py",
   "mimetype": "text/x-python",
   "name": "python",
   "nbconvert_exporter": "python",
   "pygments_lexer": "ipython2",
   "version": "2.7.9"
  }
 },
 "nbformat": 4,
 "nbformat_minor": 2
}
