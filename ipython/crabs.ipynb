{
 "cells": [
  {
   "cell_type": "code",
   "execution_count": null,
   "metadata": {
    "scrolled": true
   },
   "outputs": [],
   "source": [
    "import pandas as pd\n",
    "import matplotlib.pyplot as plt\n",
    "import os\n",
    "import sys\n",
    "module_path = os.path.abspath(os.path.join('..'))\n",
    "if module_path not in sys.path:\n",
    "    sys.path.append(module_path)\n",
    "    \n",
    "from lib.FolderStructure import FolderStructure\n",
    "from lib.data.CrabsData import CrabsData\n",
    "from lib.data.RedDotsData import RedDotsData\n",
    "\n",
    "#rootDir =\"C:/workspaces/AnjutkaVideo/Kara_Sea_Crab_Video_st_5993_2018/\"\n",
    "#videoFileName = \"V3__R_20180915_205551\"\n",
    "#videoFileName = \"V4__R_20180915_210447\"\n",
    "#videoFileName = \"V6__R_20180915_212238\"\n",
    "\n",
    "\n",
    "#rootDir = \"C:/workspaces/AnjutkaVideo/KaraSeaCrabVideoBlagopoluchiyaBay2018/\"\n",
    "#videoFileName = \"V3_R_20180911_170159\"\n",
    "#videoFileName = \"V2_R_20180911_165730\"\n",
    "#videoFileName = \"V1_R_20180911_165259\"\n",
    "\n",
    "rootDir =\"C:/workspaces/AnjutkaVideo/2019-Kara/St6279_19\"\n",
    "videoFileName = \"V2\"\n",
    "\n",
    "folderStruct = FolderStructure(rootDir, videoFileName)\n",
    "\n",
    "\n",
    "crabsData = CrabsData(folderStruct)\n",
    "crabsDF = crabsData.getPandasDF()\n",
    "crabsData.getCount()"
   ]
  },
  {
   "cell_type": "code",
   "execution_count": null,
   "metadata": {},
   "outputs": [],
   "source": [
    "crabsDF.head(5)"
   ]
  },
  {
   "cell_type": "code",
   "execution_count": null,
   "metadata": {},
   "outputs": [],
   "source": [
    "rdd = RedDotsData.createFromFolderStruct(folderStruct) #.getRedDotsFilepath())\n",
    "rdd.getCount()"
   ]
  },
  {
   "cell_type": "code",
   "execution_count": null,
   "metadata": {},
   "outputs": [],
   "source": [
    "redDots = rdd.getPandasDF()\n",
    "#redDots.head(5)\n",
    "#redDots.dtypes"
   ]
  },
  {
   "cell_type": "code",
   "execution_count": null,
   "metadata": {},
   "outputs": [],
   "source": [
    "column_names = ['dir','filename','frameID','createdOn','crabNumber',\"crabWidthPixels\",\"crabLocationX\", 'crabLocationY',\n",
    "                'crabCoordinatePoint','cranbCoordinateBox']\n",
    "crabsDF = crabsData.getPandasDF() #pd.read_csv(folderStruct.getCrabsFilepath(),delimiter=\"\\t\",na_values=\"(null)\",names = column_names) # 24 errors\n",
    "\n",
    "#crabsDF[\"frameNumberrr\"]=pd.to_numeric(crabsDF[\"frameNumber\"],errors='coerce') \n",
    "#crabsDF.astype({'frameNumberrr': 'int64'}).dtypes\n",
    "#crabsDF[\"frameNumber\"] = crabsDF[\"frameNumber\"].str.replace('\\\\.0', '').astype('int64')\n",
    "\n",
    "crabsDF[\"frameNumber\"]=pd.to_numeric(crabsDF[\"frameNumber\"],errors='coerce') \n",
    "crabsDF[\"frameNumber\"] = crabsDF[\"frameNumber\"].astype('int64')\n",
    "crabsDF[\"crabLocationX\"] = crabsDF[\"crabLocationX\"].astype('int64')\n",
    "crabsDF[\"crabLocationY\"] = crabsDF[\"crabLocationY\"].astype('int64')\n",
    "crabsDF[\"crabWidthPixels\"]=pd.to_numeric(crabsDF[\"crabWidthPixels\"],errors='coerce') \n",
    "#crabsDF.dtypes\n",
    "#crabsDF.head(30)"
   ]
  },
  {
   "cell_type": "code",
   "execution_count": null,
   "metadata": {},
   "outputs": [],
   "source": [
    "#crabsDF[(crabsDF['frameNumber'] < 300) & (crabsDF['frameNumber'] >= 71)].head(50)\n",
    "\n",
    "#crabsData.crabsBetweenFrames(9000,11100)\n",
    "crabsData.crabsBetweenFrames(50,300)\n",
    "\n",
    "#.to_dict() #.head(40)"
   ]
  },
  {
   "cell_type": "code",
   "execution_count": null,
   "metadata": {},
   "outputs": [],
   "source": [
    "res=pd.merge(crabsDF[['dir','filename','frameNumber',\"crabWidthPixels\",\"crabLocationX\", 'crabLocationY']], \n",
    "             redDots[['frameNumber','mm_per_pixel']],left_on=['frameNumber'], right_on= ['frameNumber'],how='left')\n",
    "res.head(20)"
   ]
  },
  {
   "cell_type": "code",
   "execution_count": null,
   "metadata": {},
   "outputs": [],
   "source": [
    "res[\"crabWidthMM\"]=res[\"crabWidthPixels\"] * res[\"mm_per_pixel\"] \n",
    "res.head(20)"
   ]
  },
  {
   "cell_type": "code",
   "execution_count": null,
   "metadata": {},
   "outputs": [],
   "source": [
    "res.plot.scatter(x='frameNumber', y=['crabWidthMM'],figsize=(15,7), title=\"crabSize\")\n",
    "plt.gca().grid(which='major', axis='both', linestyle='--') #specify grid lines"
   ]
  },
  {
   "cell_type": "code",
   "execution_count": null,
   "metadata": {},
   "outputs": [],
   "source": []
  }
 ],
 "metadata": {
  "kernelspec": {
   "display_name": "Python 2",
   "language": "python",
   "name": "python2"
  },
  "language_info": {
   "codemirror_mode": {
    "name": "ipython",
    "version": 2
   },
   "file_extension": ".py",
   "mimetype": "text/x-python",
   "name": "python",
   "nbconvert_exporter": "python",
   "pygments_lexer": "ipython2",
   "version": "2.7.9"
  }
 },
 "nbformat": 4,
 "nbformat_minor": 2
}
