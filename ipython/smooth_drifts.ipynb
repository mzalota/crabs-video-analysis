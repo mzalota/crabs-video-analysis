{
 "cells": [
  {
   "cell_type": "code",
   "execution_count": null,
   "metadata": {},
   "outputs": [],
   "source": [
    "import pandas as pd\n",
    "import numpy\n",
    "import matplotlib.pyplot as plt\n",
    "import os\n",
    "import sys\n",
    "module_path = os.path.abspath(os.path.join('..'))\n",
    "if module_path not in sys.path:\n",
    "    sys.path.append(module_path)\n",
    "    \n",
    "from lib.FolderStructure import FolderStructure\n",
    "from lib.DriftData import DriftData\n",
    "from lib.SeeFloor import SeeFloor\n",
    "from lib.RedDotsData import RedDotsData\n",
    "from lib.BadFramesData import BadFramesData\n",
    "\n",
    "#rootDir =\"C:/workspaces/AnjutkaVideo/Kara_Sea_Crab_Video_st_5993_2018/\"\n",
    "#videoFileName = \"V3__R_20180915_205551\"\n",
    "#videoFileName = \"V4__R_20180915_210447\"\n",
    "#videoFileName = \"V6__R_20180915_212238\"\n",
    "\n",
    "#rootDir = \"C:/workspaces/AnjutkaVideo/KaraSeaCrabVideoBlagopoluchiyaBay2018/\"\n",
    "#videoFileName = \"V3_R_20180911_170159\"\n",
    "#videoFileName = \"V2_R_20180911_165730\"\n",
    "#videoFileName = \"V1_R_20180911_165259\"\n",
    "\n",
    "rootDir =\"C:/workspaces/AnjutkaVideo/2019-Kara/St6279_19\"\n",
    "videoFileName = \"V2\"\n",
    "\n",
    "folderStruct = FolderStructure(rootDir, videoFileName)\n",
    "\n",
    "drifts = DriftData.createFromFile(folderStruct.getRawDriftsFilepath())\n",
    "data = drifts.getDF()\n",
    "drifts.getCount()"
   ]
  },
  {
   "cell_type": "code",
   "execution_count": null,
   "metadata": {},
   "outputs": [],
   "source": [
    "drifts.interpolate()\n",
    "data = drifts.getDF()"
   ]
  },
  {
   "cell_type": "code",
   "execution_count": null,
   "metadata": {},
   "outputs": [],
   "source": [
    "seefloorFilepath = folderStruct.getSeefloorFilepath()\n",
    "badFrames = BadFramesData.createFromFile(folderStruct)\n",
    "rdd = RedDotsData(folderStruct)\n",
    "sf = SeeFloor(drifts, badFrames, rdd)\n",
    "\n",
    "ddf = sf.scienceData(seefloorFilepath)\n",
    "ddf.plot( x='frameNumber', y='driftY',figsize=(40,7), title=\"Drift Y\")#.savefig('MaximPlotDriftY.png', dpi=300)\n",
    "#plt.gca().grid(which='major', axis='both', linestyle='--') \n",
    "len(ddf.index)"
   ]
  },
  {
   "cell_type": "code",
   "execution_count": null,
   "metadata": {},
   "outputs": [],
   "source": [
    "data.loc[(data['frameNumber'] > 9390)].head(30)"
   ]
  },
  {
   "cell_type": "code",
   "execution_count": null,
   "metadata": {},
   "outputs": [],
   "source": [
    "#replaceOutlierBetweenTwoPoints('driftY',20)"
   ]
  },
  {
   "cell_type": "code",
   "execution_count": null,
   "metadata": {},
   "outputs": [],
   "source": [
    "#replaceIfThirdIsOutlier2('driftY', 30, -20, 100)"
   ]
  },
  {
   "cell_type": "code",
   "execution_count": null,
   "metadata": {},
   "outputs": [],
   "source": [
    "data.plot( x='frameNumber', y='driftY',figsize=(140,7), title=\"Drift Y\")#.savefig('MaximPlotDriftY.png', dpi=300)\n",
    "plt.gca().grid(which='major', axis='both', linestyle='--') \n",
    "#save to File\n",
    "#plt.savefig('driftsY_7.png', format='png', dpi=300)"
   ]
  },
  {
   "cell_type": "code",
   "execution_count": null,
   "metadata": {},
   "outputs": [],
   "source": [
    "#data.loc[data['frameNumber'] > 3010].loc[data['frameNumber'] < 3400].plot( x='frameNumber', y='driftY',figsize=(15,7))\n",
    "data.plot( x='frameNumber', y='driftY',figsize=(15,7), title=\"Drift Y\")\n",
    "plt.gca().grid(which='major', axis='both', linestyle='--') \n",
    "#data.loc[(data['driftY'] < -30) | (data['driftY'] > 100)].count()[0]\n"
   ]
  },
  {
   "cell_type": "code",
   "execution_count": null,
   "metadata": {},
   "outputs": [],
   "source": [
    "data.plot( x='frameNumber', y='driftX',figsize=(15,7), title=\"Drift X\")"
   ]
  },
  {
   "cell_type": "code",
   "execution_count": null,
   "metadata": {},
   "outputs": [],
   "source": [
    "folderStruct = FolderStructure(rootDir, videoFileName)\n",
    "drifts.saveToFile(folderStruct.getDriftsFilepath())"
   ]
  },
  {
   "cell_type": "code",
   "execution_count": null,
   "metadata": {},
   "outputs": [],
   "source": [
    "video_filename=\"V1_R_20180911_165259\"\n",
    "directory=\"C:/workspaces/AnjutkaVideo/KaraSeaCrabVideoBlagopoluchiyaBay2018/\"+video_filename+\"/\"\n",
    "\n",
    "input_filename=video_filename+\"_drifts_bck_no_interpolate.csv\"\n",
    "input_filepath=directory+\"/\"+input_filename\n",
    "data1 = pd.read_csv(input_filepath,delimiter=\"\\t\",na_values=\"(null)\") \n",
    "#data1.loc[data1['frameNumber'] > 2000].loc[data1['frameNumber'] < 3800].plot( x='frameNumber', y='driftY',figsize=(15,7))\n",
    "data1.loc[data1['frameNumber'] > -2000].loc[data1['frameNumber'] < 30800].plot( x='frameNumber', y='driftY',figsize=(15,7))"
   ]
  },
  {
   "cell_type": "code",
   "execution_count": null,
   "metadata": {},
   "outputs": [],
   "source": [
    "#Correct \"single outliers\" (where prev and next data points are not outliers)\n",
    "def replaceOutlierBetweenTwoPoints(colName, normalJump):\n",
    "    col = data[colName]\n",
    "    prev=col.shift(periods=1)\n",
    "    next=col.shift(periods=-1)\n",
    "    diffNextPrev=abs(prev - next)\n",
    "    meanPrevNext=(next+prev)/2\n",
    "    deviation = abs(col-meanPrevNext)\n",
    "    single_outlier = (deviation > normalJump) & (diffNextPrev < normalJump)\n",
    "    data[colName] = col.mask(single_outlier, meanPrevNext)    \n",
    "    \n",
    "def replaceIfThirdIsOutlier2(colName, normalJump, normalMin, normalMax):\n",
    "    \n",
    "    #outlierThreshold = 30\n",
    "    #normalJump = 5\n",
    "    \n",
    "    col = data[colName]\n",
    "    prevPrev=col.shift(periods=2)\n",
    "    nextNext=col.shift(periods=-2)\n",
    "    prev=col.shift(periods=1)\n",
    "    next=col.shift(periods=-1)\n",
    "\n",
    "    meanPrevs=(prevPrev + prev)/2\n",
    "    deviation = abs(col-meanPrevs)\n",
    "\n",
    "    diffPrevs=prev-prevPrev\n",
    "    \n",
    "    \n",
    "    #outlier_fromPrevs = (deviationY > outlierThreshold) & (abs(diffPrevsY) < normalJump)\n",
    "    prevsAreNotOutliers = (abs(diffPrevs) < normalJump) & (prevPrev>normalMin) & (prevPrev<normalMax) & (prev>normalMin) & (prev<normalMax)\n",
    "    \n",
    "    outlier_fromPrevs = ((col<normalMin) | (col>normalMax)) & (deviation > normalJump) & prevsAreNotOutliers\n",
    "    \n",
    "    data[\"prevsAreNotOutliers\"] = prevsAreNotOutliers\n",
    "    data[\"outlier_fromPrevs\"] = outlier_fromPrevs\n",
    "    data[colName] = col.mask(outlier_fromPrevs, prev+diffPrevs)    "
   ]
  },
  {
   "cell_type": "code",
   "execution_count": null,
   "metadata": {},
   "outputs": [],
   "source": [
    "data.loc[data['driftY'] < -30].count()[0]"
   ]
  },
  {
   "cell_type": "code",
   "execution_count": null,
   "metadata": {},
   "outputs": [],
   "source": [
    "data.loc[(data['driftX'] < -30) | (data['driftX'] > 30)].count()[0]"
   ]
  },
  {
   "cell_type": "code",
   "execution_count": null,
   "metadata": {},
   "outputs": [],
   "source": [
    "#data.loc[data['driftY'] != data['driftY_orig']].head(10) \n",
    "data.plot(x='frameNumber', y=['driftY_orig','driftX_orig'],figsize=(15,7), title=\"Original\")"
   ]
  },
  {
   "cell_type": "code",
   "execution_count": null,
   "metadata": {},
   "outputs": [],
   "source": [
    "replaceOutlierBetweenTwoPoints('driftX', 8)\n",
    "data.loc[(data['driftX'] < -30) | (data['driftX'] > 30)].count()[0]"
   ]
  },
  {
   "cell_type": "code",
   "execution_count": null,
   "metadata": {},
   "outputs": [],
   "source": [
    "replaceIfThirdIsOutlier2('driftX',8,-25,25)\n",
    "data.loc[(data['driftX'] < -30) | (data['driftX'] > 30)].count()[0]"
   ]
  },
  {
   "cell_type": "code",
   "execution_count": null,
   "metadata": {},
   "outputs": [],
   "source": [
    "data.plot(x='frameNumber', y='driftX',figsize=(15,7), title=\"Original DriftX\")\n",
    "data.loc[(data['driftX'] < -30) | (data['driftX'] > 30)].count()[0]"
   ]
  },
  {
   "cell_type": "code",
   "execution_count": null,
   "metadata": {},
   "outputs": [],
   "source": [
    "replaceOutlierBetweenTwoPoints('driftY',20)\n",
    "data.loc[(data['driftY'] < -30) | (data['driftY'] > 100)].count()[0]"
   ]
  },
  {
   "cell_type": "code",
   "execution_count": null,
   "metadata": {},
   "outputs": [],
   "source": [
    "replaceIfThirdIsOutlier2('driftY', 30, -20, 100)\n",
    "data.loc[(data['driftY'] < -30) | (data['driftY'] > 100)].count()[0]"
   ]
  },
  {
   "cell_type": "code",
   "execution_count": null,
   "metadata": {},
   "outputs": [],
   "source": [
    "#data.loc[data['frameNumber'] > 3010].loc[data['frameNumber'] < 3400].plot( x='frameNumber', y='driftY',figsize=(15,7))\n",
    "data.plot( x='frameNumber', y='driftY',figsize=(15,7), title=\"Drift Y\")\n",
    "#data.loc[(data['driftY'] < -30) | (data['driftY'] > 100)].count()[0]"
   ]
  },
  {
   "cell_type": "code",
   "execution_count": null,
   "metadata": {},
   "outputs": [],
   "source": []
  },
  {
   "cell_type": "code",
   "execution_count": null,
   "metadata": {},
   "outputs": [],
   "source": [
    "#data.loc[data['frameNumber'] > 0].loc[data['frameNumber'] < 200].plot(kind=\"bar\", x='frameNumber', y='driftY',figsize=(15,7), title=\"Iteration 5\")"
   ]
  },
  {
   "cell_type": "code",
   "execution_count": null,
   "metadata": {},
   "outputs": [],
   "source": [
    "#data.loc[data['frameNumber'] > 5350].loc[data['frameNumber'] < 5460].head(100)"
   ]
  },
  {
   "cell_type": "code",
   "execution_count": null,
   "metadata": {},
   "outputs": [],
   "source": [
    "output_filename=video_filename+\"_toCut.csv\"\n",
    "output_filepath=directory+\"/\"+output_filename\n",
    "print(output_filepath)"
   ]
  },
  {
   "cell_type": "code",
   "execution_count": null,
   "metadata": {},
   "outputs": [],
   "source": [
    "#data.to_csv(output_filepath, sep='\\t')"
   ]
  },
  {
   "cell_type": "code",
   "execution_count": null,
   "metadata": {},
   "outputs": [],
   "source": [
    "data = pd.read_csv(output_filepath,delimiter=\"\\t\",na_values=\"(null)\") # 24 errors\n",
    "#data.loc[data['frameNumber'] > 1000].loc[data['frameNumber'] < 3000].plot( x='frameNumber', y=['driftY','driftX'], figsize=(15,11), title=\"Iteration 5\")\n",
    "data.plot( x='frameNumber', y=['driftY','driftX'], figsize=(15,11), title=\"Iteration 5\")\n",
    "data.loc[data['driftY'] < -30].count()[0]"
   ]
  },
  {
   "cell_type": "code",
   "execution_count": null,
   "metadata": {},
   "outputs": [],
   "source": []
  },
  {
   "cell_type": "code",
   "execution_count": null,
   "metadata": {},
   "outputs": [],
   "source": []
  }
 ],
 "metadata": {
  "kernelspec": {
   "display_name": "Python 2",
   "language": "python",
   "name": "python2"
  },
  "language_info": {
   "codemirror_mode": {
    "name": "ipython",
    "version": 2
   },
   "file_extension": ".py",
   "mimetype": "text/x-python",
   "name": "python",
   "nbconvert_exporter": "python",
   "pygments_lexer": "ipython2",
   "version": "2.7.9"
  }
 },
 "nbformat": 4,
 "nbformat_minor": 2
}
