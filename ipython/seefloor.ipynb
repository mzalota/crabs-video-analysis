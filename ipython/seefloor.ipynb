{
 "cells": [
  {
   "cell_type": "code",
   "execution_count": null,
   "metadata": {},
   "outputs": [],
   "source": [
    "import pandas as pd\n",
    "import numpy\n",
    "import matplotlib.pyplot as plt\n",
    "import os\n",
    "import sys\n",
    "module_path = os.path.abspath(os.path.join('..'))\n",
    "if module_path not in sys.path:\n",
    "    sys.path.append(module_path)\n",
    "    \n",
    "from lib.FolderStructure import FolderStructure\n",
    "from lib.data.DriftData import DriftData\n",
    "from lib.data.SeeFloor import SeeFloor\n",
    "from lib.data.RedDotsData import RedDotsData\n",
    "from lib.data.BadFramesData import BadFramesData\n",
    "\n",
    "#rootDir =\"C:/workspaces/AnjutkaVideo/Kara_Sea_Crab_Video_st_5993_2018/\"\n",
    "#videoFileName = \"V3__R_20180915_205551\"\n",
    "#videoFileName = \"V4__R_20180915_210447\"\n",
    "#videoFileName = \"V6__R_20180915_212238\"\n",
    "\n",
    "#rootDir = \"C:/workspaces/AnjutkaVideo/KaraSeaCrabVideoBlagopoluchiyaBay2018/\"\n",
    "#videoFileName = \"V3_R_20180911_170159\"\n",
    "#videoFileName = \"V2_R_20180911_165730\"\n",
    "#videoFileName = \"V1_R_20180911_165259\"\n",
    "\n",
    "rootDir =\"C:/workspaces/AnjutkaVideo/2019-Kara/St6279_19\"\n",
    "videoFileName = \"V2\"\n",
    "\n",
    "folderStruct = FolderStructure(rootDir, videoFileName)\n",
    "\n",
    "#drifts = DriftData.createFromFile(folderStruct.getRawDriftsFilepath())\n",
    "#data = drifts.getDF()\n",
    "#drifts.getCount()\n",
    "sf = SeeFloor.createFromFolderStruct(folderStruct)"
   ]
  },
  {
   "cell_type": "code",
   "execution_count": null,
   "metadata": {},
   "outputs": [],
   "source": [
    "#drifts.interpolate()\n",
    "#data = drifts.getDF()\n",
    "#sf.saveToFile()\n",
    "ddf = sf.getDF() "
   ]
  },
  {
   "cell_type": "code",
   "execution_count": null,
   "metadata": {},
   "outputs": [],
   "source": [
    "#seefloorFilepath = folderStruct.getSeefloorFilepath()\n",
    "#badFrames = BadFramesData.createFromFile(folderStruct)\n",
    "#rdd = RedDotsData(folderStruct)\n",
    "#sf = SeeFloor(drifts, badFrames, rdd)\n",
    "\n",
    "ddf.plot( x='frameNumber', y='driftY',figsize=(40,7), title=\"Drift Y\")#.savefig('MaximPlotDriftY.png', dpi=300)\n",
    "#plt.gca().grid(which='major', axis='both', linestyle='--') \n",
    "len(ddf.index)"
   ]
  },
  {
   "cell_type": "code",
   "execution_count": null,
   "metadata": {},
   "outputs": [],
   "source": [
    "#data.loc[(data['frameNumber'] > 9390)].head(30)"
   ]
  },
  {
   "cell_type": "code",
   "execution_count": null,
   "metadata": {},
   "outputs": [],
   "source": [
    "#ddf[frameNumber,\tdriftX\tdriftY\tdistance\tmm_per_pixel]\n",
    "ddf.loc[(ddf['frameNumber'] >= 1391)].head(15) #11125.122565"
   ]
  },
  {
   "cell_type": "code",
   "execution_count": null,
   "metadata": {},
   "outputs": [],
   "source": [
    "ddf.loc[(ddf['driftY_sum_mm'] < 442.423981)].max()[\"frameNumber\"]"
   ]
  },
  {
   "cell_type": "code",
   "execution_count": null,
   "metadata": {},
   "outputs": [],
   "source": [
    "int(ddf.loc[(ddf['frameNumber'] == 61)][\"bottom_corner_mm\"])"
   ]
  },
  {
   "cell_type": "code",
   "execution_count": null,
   "metadata": {},
   "outputs": [],
   "source": []
  },
  {
   "cell_type": "code",
   "execution_count": null,
   "metadata": {},
   "outputs": [],
   "source": []
  }
 ],
 "metadata": {
  "kernelspec": {
   "display_name": "Python 2",
   "language": "python",
   "name": "python2"
  },
  "language_info": {
   "codemirror_mode": {
    "name": "ipython",
    "version": 2
   },
   "file_extension": ".py",
   "mimetype": "text/x-python",
   "name": "python",
   "nbconvert_exporter": "python",
   "pygments_lexer": "ipython2",
   "version": "2.7.9"
  }
 },
 "nbformat": 4,
 "nbformat_minor": 2
}
