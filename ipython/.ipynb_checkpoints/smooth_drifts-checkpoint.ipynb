{
 "cells": [
  {
   "cell_type": "code",
   "execution_count": null,
   "metadata": {},
   "outputs": [],
   "source": [
    "import pandas as pd\n",
    "import numpy\n",
    "import matplotlib.pyplot as plt\n",
    "import os\n",
    "import sys\n",
    "module_path = os.path.abspath(os.path.join('..'))\n",
    "if module_path not in sys.path:\n",
    "    sys.path.append(module_path)\n",
    "    \n",
    "from lib.FolderStructure import FolderStructure\n",
    "from lib.DriftData import DriftData\n",
    "from lib.SeeFloor import SeeFloor\n",
    "from lib.RedDotsData import RedDotsData\n",
    "from lib.BadFramesData import BadFramesData\n",
    "\n",
    "#rootDir =\"C:/workspaces/AnjutkaVideo/Kara_Sea_Crab_Video_st_5993_2018/\"\n",
    "#videoFileName = \"V3__R_20180915_205551\"\n",
    "#videoFileName = \"V4__R_20180915_210447\"\n",
    "#videoFileName = \"V6__R_20180915_212238\"\n",
    "\n",
    "#rootDir = \"C:/workspaces/AnjutkaVideo/KaraSeaCrabVideoBlagopoluchiyaBay2018/\"\n",
    "#videoFileName = \"V3_R_20180911_170159\"\n",
    "#videoFileName = \"V2_R_20180911_165730\"\n",
    "#videoFileName = \"V1_R_20180911_165259\"\n",
    "\n",
    "rootDir =\"C:/workspaces/AnjutkaVideo/2019-Kara/St6279_19\"\n",
    "videoFileName = \"V2\"\n",
    "\n",
    "folderStruct = FolderStructure(rootDir, videoFileName)\n",
    "\n",
    "drifts = DriftData.createFromFolderStruct(folderStruct)\n",
    "dfRaw = drifts.getRawDriftsDF(folderStruct)\n",
    "len(dfRaw.index)"
   ]
  },
  {
   "cell_type": "code",
   "execution_count": null,
   "metadata": {},
   "outputs": [],
   "source": [
    "dfRaw.plot( x='frameNumber', y='driftY',figsize=(15,7), title=\"Raw Drift Y\")\n",
    "plt.gca().grid(which='major', axis='both', linestyle='--') "
   ]
  },
  {
   "cell_type": "code",
   "execution_count": null,
   "metadata": {},
   "outputs": [],
   "source": [
    "dfRaw.plot( x='frameNumber', y='driftX',figsize=(15,7), title=\"Raw Drift X\")\n",
    "plt.gca().grid(which='major', axis='both', linestyle='--') "
   ]
  },
  {
   "cell_type": "code",
   "execution_count": null,
   "metadata": {},
   "outputs": [],
   "source": [
    "data = drifts.interpolateRawDrifts(dfRaw)\n",
    "#data = drifts.getDF()"
   ]
  },
  {
   "cell_type": "code",
   "execution_count": null,
   "metadata": {},
   "outputs": [],
   "source": [
    "data.loc[(data['frameNumber'] > 9390)].head(10)"
   ]
  },
  {
   "cell_type": "code",
   "execution_count": null,
   "metadata": {},
   "outputs": [],
   "source": [
    "data.plot( x='frameNumber', y='driftY',figsize=(140,7), title=\"Drift Y\")#.savefig('MaximPlotDriftY.png', dpi=300)\n",
    "plt.gca().grid(which='major', axis='both', linestyle='--') \n",
    "#save to File\n",
    "#plt.savefig('driftsY_7.png', format='png', dpi=300)"
   ]
  },
  {
   "cell_type": "code",
   "execution_count": null,
   "metadata": {},
   "outputs": [],
   "source": [
    "#data.loc[data['frameNumber'] > 3010].loc[data['frameNumber'] < 3400].plot( x='frameNumber', y='driftY',figsize=(15,7))\n",
    "data.plot( x='frameNumber', y='driftY',figsize=(15,7), title=\"Drift Y Interpolated\")\n",
    "plt.gca().grid(which='major', axis='both', linestyle='--') \n",
    "#data.loc[(data['driftY'] < -30) | (data['driftY'] > 100)].count()[0]\n"
   ]
  },
  {
   "cell_type": "code",
   "execution_count": null,
   "metadata": {},
   "outputs": [],
   "source": [
    "data.plot( x='frameNumber', y='driftX',figsize=(15,7), title=\"Drift X\")\n",
    "plt.gca().grid(which='major', axis='both', linestyle='--') "
   ]
  },
  {
   "cell_type": "code",
   "execution_count": null,
   "metadata": {},
   "outputs": [],
   "source": [
    "data.loc[(data['driftX'] < -30) | (data['driftX'] > 30)].count()[0]"
   ]
  },
  {
   "cell_type": "code",
   "execution_count": null,
   "metadata": {},
   "outputs": [],
   "source": [
    "#data.loc[data['driftY'] != data['driftY_orig']].head(10) \n",
    "data.plot(x='frameNumber', y=['driftY','driftX'],figsize=(15,7), title=\"Interpolated Both\")"
   ]
  },
  {
   "cell_type": "code",
   "execution_count": null,
   "metadata": {},
   "outputs": [],
   "source": []
  }
 ],
 "metadata": {
  "kernelspec": {
   "display_name": "Python 2",
   "language": "python",
   "name": "python2"
  },
  "language_info": {
   "codemirror_mode": {
    "name": "ipython",
    "version": 2
   },
   "file_extension": ".py",
   "mimetype": "text/x-python",
   "name": "python",
   "nbconvert_exporter": "python",
   "pygments_lexer": "ipython2",
   "version": "2.7.9"
  }
 },
 "nbformat": 4,
 "nbformat_minor": 2
}
