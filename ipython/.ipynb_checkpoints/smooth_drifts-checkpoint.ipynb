{
 "cells": [
  {
   "cell_type": "code",
   "execution_count": 1,
   "metadata": {},
   "outputs": [],
   "source": [
    "import pandas as pd\n",
    "import matplotlib.pyplot as plt"
   ]
  },
  {
   "cell_type": "code",
   "execution_count": 2,
   "metadata": {},
   "outputs": [
    {
     "ename": "NameError",
     "evalue": "name 'directory' is not defined",
     "output_type": "error",
     "traceback": [
      "\u001b[1;31m---------------------------------------------------------------------------\u001b[0m",
      "\u001b[1;31mNameError\u001b[0m                                 Traceback (most recent call last)",
      "\u001b[1;32m<ipython-input-2-173e2c8da200>\u001b[0m in \u001b[0;36m<module>\u001b[1;34m()\u001b[0m\n\u001b[0;32m     15\u001b[0m \u001b[0minput_filename\u001b[0m\u001b[1;33m=\u001b[0m\u001b[0mvideo_filename\u001b[0m\u001b[1;33m+\u001b[0m\u001b[1;34m\"_drifts.csv\"\u001b[0m\u001b[1;33m\u001b[0m\u001b[0m\n\u001b[0;32m     16\u001b[0m \u001b[1;33m\u001b[0m\u001b[0m\n\u001b[1;32m---> 17\u001b[1;33m \u001b[0minput_filepath\u001b[0m\u001b[1;33m=\u001b[0m\u001b[0mdirectory\u001b[0m\u001b[1;33m+\u001b[0m\u001b[1;34m\"/\"\u001b[0m\u001b[1;33m+\u001b[0m\u001b[0minput_filename\u001b[0m\u001b[1;33m\u001b[0m\u001b[0m\n\u001b[0m\u001b[0;32m     18\u001b[0m \u001b[1;33m\u001b[0m\u001b[0m\n\u001b[0;32m     19\u001b[0m \u001b[1;31m#data = pd.read_csv(\"C:/workspaces/AnjutkaVideo/V1_R_20180911_165259_drifts14.csv\",delimiter=\"\\t\",na_values=\"(null)\") #\u001b[0m\u001b[1;33m\u001b[0m\u001b[1;33m\u001b[0m\u001b[0m\n",
      "\u001b[1;31mNameError\u001b[0m: name 'directory' is not defined"
     ]
    }
   ],
   "source": [
    "\n",
    "#C:\\workspaces\\AnjutkaVideo\\Kara_Sea_Crab_Video_st_5993_2018\\V6__R_20180915_212238\n",
    "\n",
    "#video_filename=\"V5__R_20180915_211343\"\n",
    "#input_filename=video_filename+\"_drifts15.csv\"\n",
    "\n",
    "#video_filename=\"V3__R_20180915_205551\"\n",
    "#video_filename=\"V6__R_20180915_212238\"\n",
    "video_filename=\"V3_R_20180911_170159\"\n",
    "\n",
    "directory = \"C:/workspaces/AnjutkaVideo/KaraSeaCrabVideoBlagopoluchiyaBay2018/\"\n",
    "\n",
    "#directory=\"C:/Users/User/Documents/data/Kara/Video/V_Analysis/\"+video_filename+\"/\"\n",
    "\n",
    "input_filename=video_filename+\"_drifts.csv\"\n",
    "\n",
    "input_filepath=directory+\"/\"+input_filename\n",
    "\n",
    "#data = pd.read_csv(\"C:/workspaces/AnjutkaVideo/V1_R_20180911_165259_drifts14.csv\",delimiter=\"\\t\",na_values=\"(null)\") #\n",
    "#data = pd.read_csv(\"C:/workspaces/AnjutkaVideo/V1_R_20180911_165259_drifts12.csv\",delimiter=\"\\t\",na_values=\"(null)\") #244 errors\n",
    "#data = pd.read_csv(\"C:/workspaces/AnjutkaVideo/V2_R_20180911_165730_drifts12.csv\",delimiter=\"\\t\",na_values=\"(null)\") #4 errors\n",
    "#data = pd.read_csv(\"C:/workspaces/AnjutkaVideo/V3_R_20180911_170159_drifts14.csv\",delimiter=\"\\t\",na_values=\"(null)\") #no errors\n",
    "#data = pd.read_csv(\"C:/workspaces/AnjutkaVideo/V3_R_20180916_012323_drifts12.csv\",delimiter=\"\\t\",na_values=\"(null)\") #no errors left\n",
    "#data = pd.read_csv(\"C:/workspaces/AnjutkaVideo/V6__R_20180915_212238_drifts11.csv\",delimiter=\"\\t\",na_values=\"(null)\") #11 errors\n",
    "#data = pd.read_csv(\"C:/workspaces/AnjutkaVideo/V5__R_20180915_211343_drifts11.csv\",delimiter=\"\\t\",na_values=\"(null)\") # 24 errors\n",
    "data = pd.read_csv(input_filepath,delimiter=\"\\t\",na_values=\"(null)\") # 24 errors\n",
    "\n",
    "#data = pd.read_csv(\"C:/workspaces/AnjutkaVideo/V4__R_20180915_210447_drifts11.csv\",delimiter=\"\\t\",na_values=\"(null)\") # no errors\n",
    "#data = pd.read_csv(\"C:/workspaces/AnjutkaVideo/V3__R_20180915_205551_drifts11.csv\",delimiter=\"\\t\",na_values=\"(null)\") #13 errors\n",
    "#data = pd.read_csv(\"C:/workspaces/AnjutkaVideo/V3__R_20180915_205551_drifts15.csv\",delimiter=\"\\t\",na_values=\"(null)\")\n"
   ]
  },
  {
   "cell_type": "code",
   "execution_count": null,
   "metadata": {
    "scrolled": true
   },
   "outputs": [],
   "source": [
    "#data.head(30)"
   ]
  },
  {
   "cell_type": "code",
   "execution_count": null,
   "metadata": {},
   "outputs": [],
   "source": [
    "#data.dtypes\n",
    "data['driftY_orig']=data['driftY']"
   ]
  },
  {
   "cell_type": "code",
   "execution_count": null,
   "metadata": {},
   "outputs": [],
   "source": [
    "data.plot(x='frameNumber', y='driftY',figsize=(15,7), title=\"Original DriftY\")"
   ]
  },
  {
   "cell_type": "code",
   "execution_count": null,
   "metadata": {},
   "outputs": [],
   "source": [
    "data.loc[data['driftY'] < -30].count()[0]"
   ]
  },
  {
   "cell_type": "code",
   "execution_count": null,
   "metadata": {},
   "outputs": [],
   "source": [
    "#Correct \"single outliers\" (where prev and next data points are not outliers)\n",
    "def replaceOutlierBetweenTwo():\n",
    "    prevY=data['driftY'].shift(periods=1)\n",
    "    nextY=data['driftY'].shift(periods=-1)\n",
    "    diffNextPrevY=abs(prevY - nextY)\n",
    "    meanY=(nextY+prevY)/2\n",
    "    deviationY = abs(data['driftY']-meanY)\n",
    "    single_outlier = (deviationY >30) & (diffNextPrevY <30)\n",
    "    data['driftY'] = data['driftY'].mask(single_outlier, meanY)"
   ]
  },
  {
   "cell_type": "code",
   "execution_count": null,
   "metadata": {},
   "outputs": [],
   "source": [
    "#data.loc[data['driftY'] != data['driftY_orig']].head(10) "
   ]
  },
  {
   "cell_type": "code",
   "execution_count": null,
   "metadata": {},
   "outputs": [],
   "source": [
    "replaceOutlierBetweenTwo()\n",
    "#data.loc[data['frameNumber'] > 4900].loc[data['frameNumber'] < 5860].plot(kind='bar', x='frameNumber', y='driftY_corrected',figsize=(15,7))\n",
    "data.plot( x='frameNumber', y='driftY',figsize=(15,7), title=\"Iteration 1: Smoothing outliers using prev and next\")\n",
    "data.loc[data['driftY'] < -30].count()[0]"
   ]
  },
  {
   "cell_type": "code",
   "execution_count": null,
   "metadata": {},
   "outputs": [],
   "source": []
  },
  {
   "cell_type": "code",
   "execution_count": null,
   "metadata": {},
   "outputs": [],
   "source": [
    "#data.loc[data['single_outlier'] == True]\n",
    "\n",
    "#data['driftY_corrected'] = data['driftY']\n",
    "def replaceIfThirdIsOutlier():\n",
    "    \n",
    "    outlierThreshold = 70\n",
    "    normalJump = 10\n",
    "    \n",
    "    prevPrevY=data['driftY'].shift(periods=2)\n",
    "    nextNextY=data['driftY'].shift(periods=-2)\n",
    "    prevY=data['driftY'].shift(periods=1)\n",
    "    nextY=data['driftY'].shift(periods=-1)\n",
    "\n",
    "    meanY=(prevPrevY + prevY)/2\n",
    "    deviationY = abs(data['driftY']-meanY)\n",
    "\n",
    "    diffPrevsY=prevY-prevPrevY\n",
    "\n",
    "    \n",
    "    #outlier_fromPrevs = (deviationY > outlierThreshold) & (abs(diffPrevsY) < normalJump)\n",
    "    outlier_fromPrevs = (prevPrevY>-10) & (prevY>-10) & (deviationY > outlierThreshold) & (abs(diffPrevsY) < normalJump)\n",
    "    data['driftY'] = data['driftY'].mask(outlier_fromPrevs, prevY+diffPrevsY)"
   ]
  },
  {
   "cell_type": "code",
   "execution_count": null,
   "metadata": {},
   "outputs": [],
   "source": [
    "replaceIfThirdIsOutlier()"
   ]
  },
  {
   "cell_type": "code",
   "execution_count": null,
   "metadata": {},
   "outputs": [],
   "source": [
    "data.plot( x='frameNumber', y='driftY',figsize=(15,7), title =\"Iteration 1: Smoothing outlier based on previous 2 values\")"
   ]
  },
  {
   "cell_type": "code",
   "execution_count": null,
   "metadata": {},
   "outputs": [],
   "source": [
    "data.loc[data['driftY'] < -30].count()[0]"
   ]
  },
  {
   "cell_type": "code",
   "execution_count": null,
   "metadata": {},
   "outputs": [],
   "source": [
    "replaceOutlierBetweenTwo()\n",
    "replaceIfThirdIsOutlier()\n",
    "data.plot( x='frameNumber', y='driftY',figsize=(15,7), title =\"Iteration 2\")\n",
    "data.loc[data['driftY'] < -30].count()[0]"
   ]
  },
  {
   "cell_type": "code",
   "execution_count": null,
   "metadata": {},
   "outputs": [],
   "source": []
  },
  {
   "cell_type": "code",
   "execution_count": null,
   "metadata": {},
   "outputs": [],
   "source": [
    "replaceOutlierBetweenTwo()\n",
    "replaceIfThirdIsOutlier()\n",
    "data.plot( x='frameNumber', y='driftY',figsize=(15,7), title =\"Iteration 3\")\n",
    "data.loc[data['driftY'] < -30].count()[0]"
   ]
  },
  {
   "cell_type": "code",
   "execution_count": null,
   "metadata": {},
   "outputs": [],
   "source": [
    "replaceOutlierBetweenTwo()\n",
    "replaceIfThirdIsOutlier()\n",
    "data.plot( x='frameNumber', y='driftY',figsize=(15,7), title=\"Iteration 4\")\n",
    "data.loc[data['driftY'] < -30].count()[0]"
   ]
  },
  {
   "cell_type": "code",
   "execution_count": null,
   "metadata": {},
   "outputs": [],
   "source": [
    "replaceOutlierBetweenTwo()\n",
    "replaceIfThirdIsOutlier()\n",
    "data.plot( x='frameNumber', y='driftY',figsize=(15,7), title=\"Iteration 5\")\n",
    "data.loc[data['driftY'] < -30].count()[0]"
   ]
  },
  {
   "cell_type": "code",
   "execution_count": null,
   "metadata": {},
   "outputs": [],
   "source": [
    "replaceOutlierBetweenTwo()\n",
    "replaceIfThirdIsOutlier()\n",
    "data.plot( x='frameNumber', y='driftY',figsize=(15,7), title=\"Iteration 5\")\n",
    "data.loc[data['driftY'] < -30].count()[0]"
   ]
  },
  {
   "cell_type": "code",
   "execution_count": null,
   "metadata": {},
   "outputs": [],
   "source": [
    "replaceOutlierBetweenTwo()\n",
    "replaceIfThirdIsOutlier()\n",
    "data.plot( x='frameNumber', y='driftY',figsize=(15,7), title=\"Iteration 5\")\n",
    "data.loc[data['driftY'] < -30].count()[0]"
   ]
  },
  {
   "cell_type": "code",
   "execution_count": null,
   "metadata": {},
   "outputs": [],
   "source": [
    "data.loc[data['frameNumber'] > 0].loc[data['frameNumber'] < 500].plot(kind=\"bar\", x='frameNumber', y='driftY',figsize=(15,7), title=\"Iteration 5\")"
   ]
  },
  {
   "cell_type": "code",
   "execution_count": null,
   "metadata": {},
   "outputs": [],
   "source": [
    "data.loc[data['frameNumber'] > 5350].loc[data['frameNumber'] < 5460].head(100)"
   ]
  },
  {
   "cell_type": "code",
   "execution_count": null,
   "metadata": {},
   "outputs": [],
   "source": [
    "output_filename=video_filename+\"_toCut.csv\"\n",
    "output_filepath=directory+\"/\"+output_filename\n",
    "print(output_filepath)"
   ]
  },
  {
   "cell_type": "code",
   "execution_count": null,
   "metadata": {},
   "outputs": [],
   "source": [
    "data.to_csv(output_filepath, sep='\\t')"
   ]
  },
  {
   "cell_type": "code",
   "execution_count": null,
   "metadata": {},
   "outputs": [],
   "source": [
    "data = pd.read_csv(output_filepath,delimiter=\"\\t\",na_values=\"(null)\") # 24 errors\n",
    "data.plot( x='frameNumber', y='driftY',figsize=(15,7), title=\"Iteration 5\")\n",
    "data.loc[data['driftY'] < -30].count()[0]"
   ]
  },
  {
   "cell_type": "code",
   "execution_count": null,
   "metadata": {},
   "outputs": [],
   "source": []
  },
  {
   "cell_type": "code",
   "execution_count": null,
   "metadata": {},
   "outputs": [],
   "source": []
  }
 ],
 "metadata": {
  "kernelspec": {
   "display_name": "Python 2",
   "language": "python",
   "name": "python2"
  },
  "language_info": {
   "codemirror_mode": {
    "name": "ipython",
    "version": 2
   },
   "file_extension": ".py",
   "mimetype": "text/x-python",
   "name": "python",
   "nbconvert_exporter": "python",
   "pygments_lexer": "ipython2",
   "version": "2.7.9"
  }
 },
 "nbformat": 4,
 "nbformat_minor": 2
}
