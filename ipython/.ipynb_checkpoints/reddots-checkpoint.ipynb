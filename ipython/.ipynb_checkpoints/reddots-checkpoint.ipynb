{
 "cells": [
  {
   "cell_type": "code",
   "execution_count": 1,
   "metadata": {
    "scrolled": true
   },
   "outputs": [
    {
     "ename": "AttributeError",
     "evalue": "'str' object has no attribute 'getDriftsFilepath'",
     "output_type": "error",
     "traceback": [
      "\u001b[1;31m---------------------------------------------------------------------------\u001b[0m",
      "\u001b[1;31mAttributeError\u001b[0m                            Traceback (most recent call last)",
      "\u001b[1;32m<ipython-input-1-dabaae01506c>\u001b[0m in \u001b[0;36m<module>\u001b[1;34m()\u001b[0m\n\u001b[0;32m     27\u001b[0m \u001b[0mfolderStruct\u001b[0m \u001b[1;33m=\u001b[0m \u001b[0mFolderStructure\u001b[0m\u001b[1;33m(\u001b[0m\u001b[0mrootDir\u001b[0m\u001b[1;33m,\u001b[0m \u001b[0mvideoFileName\u001b[0m\u001b[1;33m)\u001b[0m\u001b[1;33m\u001b[0m\u001b[0m\n\u001b[0;32m     28\u001b[0m \u001b[1;33m\u001b[0m\u001b[0m\n\u001b[1;32m---> 29\u001b[1;33m \u001b[0mdrifts\u001b[0m \u001b[1;33m=\u001b[0m \u001b[0mDriftData\u001b[0m\u001b[1;33m.\u001b[0m\u001b[0mcreateFromFile\u001b[0m\u001b[1;33m(\u001b[0m\u001b[0mfolderStruct\u001b[0m\u001b[1;33m.\u001b[0m\u001b[0mgetDriftsFilepath\u001b[0m\u001b[1;33m(\u001b[0m\u001b[1;33m)\u001b[0m\u001b[1;33m)\u001b[0m\u001b[1;33m\u001b[0m\u001b[0m\n\u001b[0m\u001b[0;32m     30\u001b[0m \u001b[0mmaxFrameID\u001b[0m \u001b[1;33m=\u001b[0m \u001b[0mdrifts\u001b[0m\u001b[1;33m.\u001b[0m\u001b[0mmaxFrameID\u001b[0m\u001b[1;33m(\u001b[0m\u001b[1;33m)\u001b[0m\u001b[1;33m\u001b[0m\u001b[0m\n\u001b[0;32m     31\u001b[0m \u001b[0mminFrameID\u001b[0m \u001b[1;33m=\u001b[0m \u001b[0mdrifts\u001b[0m\u001b[1;33m.\u001b[0m\u001b[0mminFrameID\u001b[0m\u001b[1;33m(\u001b[0m\u001b[1;33m)\u001b[0m\u001b[1;33m\u001b[0m\u001b[0m\n",
      "\u001b[1;32mC:\\workspaces\\crabs-video-analysis\\lib\\DriftData.pyc\u001b[0m in \u001b[0;36mcreateFromFile\u001b[1;34m(folderStruct)\u001b[0m\n\u001b[0;32m     42\u001b[0m     \u001b[1;32mdef\u001b[0m \u001b[0mcreateFromFile\u001b[0m\u001b[1;33m(\u001b[0m\u001b[0mfolderStruct\u001b[0m\u001b[1;33m)\u001b[0m\u001b[1;33m:\u001b[0m\u001b[1;33m\u001b[0m\u001b[0m\n\u001b[0;32m     43\u001b[0m         \u001b[1;31m# type: (FolderStructure) -> DriftData\u001b[0m\u001b[1;33m\u001b[0m\u001b[1;33m\u001b[0m\u001b[0m\n\u001b[1;32m---> 44\u001b[1;33m         \u001b[0mfilepath\u001b[0m \u001b[1;33m=\u001b[0m \u001b[0mfolderStruct\u001b[0m\u001b[1;33m.\u001b[0m\u001b[0mgetDriftsFilepath\u001b[0m\u001b[1;33m(\u001b[0m\u001b[1;33m)\u001b[0m\u001b[1;33m\u001b[0m\u001b[0m\n\u001b[0m\u001b[0;32m     45\u001b[0m         \u001b[0mdfRaw\u001b[0m \u001b[1;33m=\u001b[0m \u001b[0mpd\u001b[0m\u001b[1;33m.\u001b[0m\u001b[0mread_csv\u001b[0m\u001b[1;33m(\u001b[0m\u001b[0mfilepath\u001b[0m\u001b[1;33m,\u001b[0m \u001b[0mdelimiter\u001b[0m\u001b[1;33m=\u001b[0m\u001b[1;34m\"\\t\"\u001b[0m\u001b[1;33m,\u001b[0m \u001b[0mna_values\u001b[0m\u001b[1;33m=\u001b[0m\u001b[1;34m\"(null)\"\u001b[0m\u001b[1;33m)\u001b[0m\u001b[1;33m\u001b[0m\u001b[0m\n\u001b[0;32m     46\u001b[0m         \u001b[1;31m#dfRaw = dfRaw.rename(columns={dfRaw.columns[0]: \"rowNum\"}) # rename first column to be rowNum\u001b[0m\u001b[1;33m\u001b[0m\u001b[1;33m\u001b[0m\u001b[0m\n",
      "\u001b[1;31mAttributeError\u001b[0m: 'str' object has no attribute 'getDriftsFilepath'"
     ]
    }
   ],
   "source": [
    "import pandas as pd\n",
    "import matplotlib.pyplot as plt\n",
    "import os\n",
    "import sys\n",
    "module_path = os.path.abspath(os.path.join('..'))\n",
    "if module_path not in sys.path:\n",
    "    sys.path.append(module_path)\n",
    "    \n",
    "from lib.RedDotsData import RedDotsData\n",
    "from lib.FolderStructure import FolderStructure\n",
    "from lib.DriftData import DriftData\n",
    "\n",
    "#rootDir =\"C:/workspaces/AnjutkaVideo/Kara_Sea_Crab_Video_st_5993_2018/\"\n",
    "#videoFileName = \"V3__R_20180915_205551\"\n",
    "#videoFileName = \"V4__R_20180915_210447\"\n",
    "#videoFileName = \"V6__R_20180915_212238\"\n",
    "\n",
    "\n",
    "#rootDir =\"C:/workspaces/AnjutkaVideo/2019-Kara/St6279_19\"\n",
    "#videoFileName = \"V2\"\n",
    "\n",
    "rootDir = \"C:/workspaces/AnjutkaVideo/KaraSeaCrabVideoBlagopoluchiyaBay2018/\"\n",
    "#videoFileName = \"V3_R_20180911_170159\"\n",
    "#videoFileName = \"V2_R_20180911_165730\"\n",
    "videoFileName = \"V1_R_20180911_165259\"\n",
    "\n",
    "folderStruct = FolderStructure(rootDir, videoFileName)\n",
    "\n",
    "drifts = DriftData.createFromFolderStruct(folderStruct.getDriftsFilepath())\n",
    "maxFrameID = drifts.maxFrameID()\n",
    "minFrameID = drifts.minFrameID()\n",
    "#maxFrameID = 49\n",
    "#minFrameID = 36281\n",
    "\n",
    "\n",
    "rdd = RedDotsData.createFromFolderStruct(folderStruct) #.getRedDotsFilepath())\n",
    "rdd.getCount()"
   ]
  },
  {
   "cell_type": "code",
   "execution_count": null,
   "metadata": {},
   "outputs": [],
   "source": [
    "#rdd.replaceOutlierBetweenTwo()\n",
    "#rdd.getCount()"
   ]
  },
  {
   "cell_type": "code",
   "execution_count": null,
   "metadata": {},
   "outputs": [],
   "source": [
    "dfToPlot = rdd.forPlotting()\n",
    "dfToPlot.count()[0] #head(10)"
   ]
  },
  {
   "cell_type": "code",
   "execution_count": null,
   "metadata": {},
   "outputs": [],
   "source": [
    "lowerFrameID = minFrameID\n",
    "upperFrameID = maxFrameID\n",
    "#lowerFrameID = 49\n",
    "#upperFrameID = 36281\n",
    "\n",
    "#lowerFrameID = 4000\n",
    "#upperFrameID = 6000\n",
    "\n",
    "\n",
    "zoomDF = dfToPlot.loc[dfToPlot['frameNumber'] > lowerFrameID].loc[dfToPlot['frameNumber'] < upperFrameID]"
   ]
  },
  {
   "cell_type": "code",
   "execution_count": null,
   "metadata": {},
   "outputs": [],
   "source": [
    "zoomDF.plot.scatter(x='frameNumber', y=['centerPoint_x_dot1'],figsize=(65,7), title=\"Dot 1: X Axis\")\n",
    "plt.gca().grid(which='major', axis='both', linestyle='--') #specify grid lines"
   ]
  },
  {
   "cell_type": "code",
   "execution_count": null,
   "metadata": {},
   "outputs": [],
   "source": [
    "zoomDF.plot.scatter(x='frameNumber', y=['centerPoint_x_dot2'],figsize=(45,7), title=\"Dot2: X Axis\")\n",
    "plt.gca().grid(which='major', axis='both', linestyle='--') #specify grid lines"
   ]
  },
  {
   "cell_type": "code",
   "execution_count": null,
   "metadata": {},
   "outputs": [],
   "source": [
    "df = rdd.interpolated(minFrameID, maxFrameID)\n",
    "df = rdd.interpolated()\n",
    "\n",
    "#rdd.saveInterpolatedDFToFile(minFrameID, maxFrameID)\n",
    "df.count()[0]\n",
    "#df.head(10)"
   ]
  },
  {
   "cell_type": "code",
   "execution_count": null,
   "metadata": {},
   "outputs": [],
   "source": [
    "df.plot(x='frameNumber', y=['distance'],figsize=(35,7), title=\"distance\")\n",
    "plt.gca().grid(which='major', axis='both', linestyle='--') #specify grid lines"
   ]
  },
  {
   "cell_type": "code",
   "execution_count": null,
   "metadata": {},
   "outputs": [],
   "source": [
    "df.plot(x='frameNumber', y=['distance','centerPoint_x_dot1', 'centerPoint_x_dot2','centerPoint_y_dot1', 'centerPoint_y_dot2'],figsize=(90,10), title=\"distance\")\n",
    "plt.gca().grid(which='major', axis='both', linestyle='--') #specify grid lines"
   ]
  },
  {
   "cell_type": "code",
   "execution_count": null,
   "metadata": {},
   "outputs": [],
   "source": []
  },
  {
   "cell_type": "code",
   "execution_count": null,
   "metadata": {},
   "outputs": [],
   "source": [
    "dataRedDot2 = rdd.onlyRedDot2()\n",
    "dataRedDot2.count()[0]"
   ]
  },
  {
   "cell_type": "code",
   "execution_count": null,
   "metadata": {},
   "outputs": [],
   "source": [
    "#dataRedDot2 = replaceOutlierBetweenTwo(dataRedDot2, 'centerPoint_x')\n",
    "dataRedDot1 = rdd.onlyRedDot1()\n",
    "dataRedDot1.count()[0]\n",
    "#dataRedDot1['frameNumber']\n"
   ]
  },
  {
   "cell_type": "code",
   "execution_count": null,
   "metadata": {},
   "outputs": [],
   "source": [
    "dataRedDot1.plot(x='frameNumber', y=['centerPoint_x'],figsize=(15,7), title=\"redDot1: X Axis\")\n",
    "plt.gca().grid(which='major', axis='both', linestyle='--') #specify grid lines"
   ]
  },
  {
   "cell_type": "code",
   "execution_count": null,
   "metadata": {},
   "outputs": [],
   "source": [
    "dataRedDot1.plot(x='frameNumber', y=['centerPoint_y'],figsize=(15,7), title=\"redDot1 Y Axis\")\n",
    "plt.gca().grid(which='major', axis='both', linestyle='--') #specify grid lines"
   ]
  },
  {
   "cell_type": "code",
   "execution_count": null,
   "metadata": {},
   "outputs": [],
   "source": [
    "dataRedDot2.plot(x='frameNumber', y=['centerPoint_x'],figsize=(15,7), title=\"dataRedDot2 X Axis\")\n",
    "plt.gca().grid(which='major', axis='both', linestyle='--') #specify grid lines"
   ]
  },
  {
   "cell_type": "code",
   "execution_count": null,
   "metadata": {},
   "outputs": [],
   "source": [
    "dataRedDot2.plot(x='frameNumber', y=['centerPoint_y'],figsize=(15,7), title=\"dataRedDot2 Y Axis\")\n",
    "plt.gca().grid(which='major', axis='both', linestyle='--') #specify grid lines"
   ]
  },
  {
   "cell_type": "code",
   "execution_count": null,
   "metadata": {},
   "outputs": [],
   "source": []
  },
  {
   "cell_type": "code",
   "execution_count": null,
   "metadata": {},
   "outputs": [],
   "source": [
    "dfToPlot.plot(x='frameNumber', y=['centerPoint_x_dot1','centerPoint_x_dot2'],figsize=(15,7), title=\"X Axis\")\n",
    "plt.gca().grid(which='major', axis='both', linestyle='--') #specify grid lines"
   ]
  },
  {
   "cell_type": "code",
   "execution_count": null,
   "metadata": {},
   "outputs": [],
   "source": [
    "dfToPlot.plot(x='frameNumber', y=['centerPoint_y_dot1','centerPoint_y_dot2'],figsize=(15,7), title=\"Y Axis\")\n",
    "plt.gca().grid(which='major', axis='both', linestyle='--') #specify grid lines"
   ]
  },
  {
   "cell_type": "code",
   "execution_count": null,
   "metadata": {},
   "outputs": [],
   "source": []
  }
 ],
 "metadata": {
  "kernelspec": {
   "display_name": "Python 2",
   "language": "python",
   "name": "python2"
  },
  "language_info": {
   "codemirror_mode": {
    "name": "ipython",
    "version": 2
   },
   "file_extension": ".py",
   "mimetype": "text/x-python",
   "name": "python",
   "nbconvert_exporter": "python",
   "pygments_lexer": "ipython2",
   "version": "2.7.9"
  }
 },
 "nbformat": 4,
 "nbformat_minor": 2
}
